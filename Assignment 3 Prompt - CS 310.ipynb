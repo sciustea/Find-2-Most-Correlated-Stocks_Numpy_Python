{
 "cells": [
  {
   "attachments": {
    "image.png": {
     "image/png": "[encoded data removed]"
    }
   },
   "cell_type": "markdown",
   "metadata": {},
   "source": [
    "### CS310 Assignment 3. \n",
    "by Dr. Zhiyun Li, Fall/2022\n",
    "### Find the two most correlated stocks.\n",
    "\n",
    "#### The sample correlation coefficient formula is\n",
    "\n",
    "<img src=\"https://wikimedia.org/api/rest_v1/media/math/render/svg/332ae9dcde34d03f30ed6e1880af8b43327dd49c\">\n",
    "\n",
    "#### where ${\\overline {x}}$ and ${\\overline {y}}$ are the sample means of $[x1, x2, ..., xn]$ and $[y1, y2, ..., yn]$\n",
    "\n",
    "### Data Preparation\n",
    "\n",
    "Load the historial daily data of the entire 2018 for the 6 stocks \n",
    "\n",
    "```python\n",
    "tks = ['IBM', 'MSFT', 'GOOG', 'AAPL', 'AMZN', 'FB']\n",
    "```\n",
    "\n",
    "You are provided with 6 csv files. IBM.csv, MSFT.csv, etc. Each of the csv file should look like,\n",
    "\n",
    "![image.png](attachment:image.png)\n",
    "\n",
    "### Retrieve the \"Adj Close\" column values as the daily prices of each stock\n",
    "\n",
    "Please find your own way (there are many ways) to read the csv file, split the row, split the column and retrieve the \"Adj Close\" column values and store them into a dictionary such as\n",
    "\n",
    "```python\n",
    "allprices={\n",
    "        'IBM': [142.48, 146,40, 149.36, 150.10, ... ],\n",
    "        'MSFT': [...],\n",
    "        'GOOG': [...],\n",
    "        ...\n",
    "        }\n",
    "```\n",
    "\n",
    "### (40 points) Part 1: Compute the correlation between any two stocks. Write you non-NumPy version code. \n",
    "\n",
    "Please do NOT use any library to calculate correlations directly. You should use the above formula to implement the correlation algorithm.\n",
    "\n",
    "#### output\n",
    "\n",
    "Print all stock pairs and their correlations from max to min. The format should look like,\n",
    "\n",
    "```python\n",
    "IBM:MSFT = 0.763\n",
    "IBM:GOOG = 0.627\n",
    "...\n",
    "AMZN:FB = 0.234\n",
    "```\n",
    "#### Tips: By definition, the correlation is symmetrical, i.e., ${r_{xy}}$ = ${r_{yx}}$, so when you have IBM:MSFT, you can skip MSFT:IBM.\n",
    "\n",
    "### (40 points) Part 2: Write an one line numpy vectorized version of function correlation(x, y) to compute the correlation of two lists x, and y. \n",
    "\n",
    "### (20 points) Part 3: Compare the run time of both implementations.\n",
    "\n",
    "### How do I grade?\n",
    "Your output results for Part 1 and Part 2 will be either all correct or all wrong. For wrong results, you will lose 10 points in that part. If your function crashes, you will lose 20 points in that part. If your results for Part 3 are not reasonable, you will lose 10 points. \n",
    "\n",
    "You should be able to implement using only what we learned in class so far.\n",
    "\n",
    "You are encouraged to discuss with other students about the high-level ideas, but never share anything at code level. You will have to write your own code independently. Plagiarism will be detected and reported.\n",
    "\n",
    "### Deliverables:\n",
    "Please submit your code and results in your code comments to canvas as a single python file"
   ]
  },
  {
   "cell_type": "code",
   "execution_count": null,
   "metadata": {},
   "outputs": [],
   "source": []
  }
 ],
 "metadata": {
  "kernelspec": {
   "display_name": "Python 3 (ipykernel)",
   "language": "python",
   "name": "python3"
  },
  "language_info": {
   "codemirror_mode": {
    "name": "ipython",
    "version": 3
   },
   "file_extension": ".py",
   "mimetype": "text/x-python",
   "name": "python",
   "nbconvert_exporter": "python",
   "pygments_lexer": "ipython3",
   "version": "3.9.13"
  }
 },
 "nbformat": 4,
 "nbformat_minor": 4
}
